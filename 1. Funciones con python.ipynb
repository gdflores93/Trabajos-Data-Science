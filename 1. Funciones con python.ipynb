{
  "nbformat": 4,
  "nbformat_minor": 0,
  "metadata": {
    "colab": {
      "name": "Practica_Funciones_Guillermo_Flores_Torres_V3.ipynb",
      "provenance": [],
      "collapsed_sections": []
    },
    "kernelspec": {
      "name": "python3",
      "display_name": "Python 3"
    },
    "language_info": {
      "name": "python"
    }
  },
  "cells": [
    {
      "cell_type": "markdown",
      "metadata": {
        "id": "91zAP57cB4IF"
      },
      "source": [
        "**Entrega del 08/11: Guillermo Flores Torres Version 3**"
      ]
    },
    {
      "cell_type": "markdown",
      "metadata": {
        "id": "Dn7h-zSJCDXh"
      },
      "source": [
        "### **Ejercicio 1: Escribir una función para calcular el factorial de un número cualquiera:**"
      ]
    },
    {
      "cell_type": "code",
      "metadata": {
        "colab": {
          "base_uri": "https://localhost:8080/"
        },
        "id": "1wQ3dZDSCIhP",
        "outputId": "5829adf8-3001-498a-9c89-4f8e31fb892b"
      },
      "source": [
        "def factorial(x):\n",
        "  if x<1:\n",
        "      resultado=1\n",
        "  elif x>=1:\n",
        "      resultado=x*factorial(x-1)\n",
        "  return resultado\n",
        "\n",
        "#Realizamos ejemplo de la función tomando valor 5\n",
        "fact5=factorial(5)\n",
        "print(fact5)"
      ],
      "execution_count": 1,
      "outputs": [
        {
          "output_type": "stream",
          "name": "stdout",
          "text": [
            "120\n"
          ]
        }
      ]
    },
    {
      "cell_type": "markdown",
      "metadata": {
        "id": "I818d3e8bXZY"
      },
      "source": [
        "### **Ejercicio 2: Escribir una función para calcular la suma de una serie comenzando por un numero cualquiera y terminando en otro numero que debe ser mayor al primero.**"
      ]
    },
    {
      "cell_type": "code",
      "metadata": {
        "colab": {
          "base_uri": "https://localhost:8080/"
        },
        "id": "9_VCB5Y0cvr-",
        "outputId": "ac26ea0f-0a83-4ca2-d765-0970ecce3cdf"
      },
      "source": [
        "def sumatoria(x,y):\n",
        "  rango=range(x,y+1,1)\n",
        "  sumatoria=sum(rango)\n",
        "  return sumatoria\n",
        "\n",
        "#Realizamos el ejemplo de la función tomando valor X=2, Y=5.\n",
        "sumatoria(2,5)"
      ],
      "execution_count": 6,
      "outputs": [
        {
          "output_type": "execute_result",
          "data": {
            "text/plain": [
              "14"
            ]
          },
          "metadata": {},
          "execution_count": 6
        }
      ]
    }
  ]
}