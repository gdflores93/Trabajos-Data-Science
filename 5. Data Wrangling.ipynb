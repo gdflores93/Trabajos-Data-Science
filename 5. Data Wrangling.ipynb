{
  "nbformat": 4,
  "nbformat_minor": 0,
  "metadata": {
    "colab": {
      "name": "Wrangling - Flores Torres V2.ipynb",
      "provenance": [],
      "collapsed_sections": []
    },
    "kernelspec": {
      "name": "python3",
      "display_name": "Python 3"
    },
    "language_info": {
      "name": "python"
    }
  },
  "cells": [
    {
      "cell_type": "markdown",
      "source": [
        "### Librerías"
      ],
      "metadata": {
        "id": "KpQGLzhbHiJL"
      }
    },
    {
      "cell_type": "code",
      "execution_count": 1,
      "metadata": {
        "id": "ko53oCU2Jl4H"
      },
      "outputs": [],
      "source": [
        "import pandas as pd\n",
        "import numpy as  np"
      ]
    },
    {
      "cell_type": "markdown",
      "source": [
        "### Importación de data"
      ],
      "metadata": {
        "id": "3F2TXv2uHxv7"
      }
    },
    {
      "cell_type": "code",
      "source": [
        "df1=pd.read_csv('p_data.csv',sep=';')\n",
        "df2=pd.read_csv('w_data.csv',sep=';')"
      ],
      "metadata": {
        "id": "zXzMnDvJK8B9"
      },
      "execution_count": 72,
      "outputs": []
    },
    {
      "cell_type": "markdown",
      "source": [
        ""
      ],
      "metadata": {
        "id": "GgUwRkLb7BCL"
      }
    },
    {
      "cell_type": "markdown",
      "source": [
        "### 1) Cuantos ID tienen en común. Nombrar cuales no tienen en común"
      ],
      "metadata": {
        "id": "aAjHB9lNUVC2"
      }
    },
    {
      "cell_type": "code",
      "source": [
        "#Se realiza union tipo Outer entre ambos DF y se agrega un indicador TRUE/FALSE para los ID.\n",
        "df0=pd.merge(df1, df2, how='outer',on='ID',indicator='True')\n",
        "df0['True'].value_counts() \n",
        "#Observamos que existe un único ID que no tienen en comun y se encuentra en el DF2.\n",
        "\n",
        "#Filtramos para encontrar el ID que no tienen en común.\n",
        "df0[df0['True']=='right_only']\n",
        "#Se observa que el ID 1344995623 no se encuentra en ambos DF."
      ],
      "metadata": {
        "colab": {
          "base_uri": "https://localhost:8080/",
          "height": 81
        },
        "id": "-opQa7uq0Htl",
        "outputId": "e9bacbdd-311f-4f3f-f90a-2e1bc2584194"
      },
      "execution_count": 73,
      "outputs": [
        {
          "output_type": "execute_result",
          "data": {
            "text/html": [
              "\n",
              "  <div id=\"df-dab4c58f-149d-426e-99ee-e321a9879588\">\n",
              "    <div class=\"colab-df-container\">\n",
              "      <div>\n",
              "<style scoped>\n",
              "    .dataframe tbody tr th:only-of-type {\n",
              "        vertical-align: middle;\n",
              "    }\n",
              "\n",
              "    .dataframe tbody tr th {\n",
              "        vertical-align: top;\n",
              "    }\n",
              "\n",
              "    .dataframe thead th {\n",
              "        text-align: right;\n",
              "    }\n",
              "</style>\n",
              "<table border=\"1\" class=\"dataframe\">\n",
              "  <thead>\n",
              "    <tr style=\"text-align: right;\">\n",
              "      <th></th>\n",
              "      <th>Age</th>\n",
              "      <th>Sex</th>\n",
              "      <th>ID</th>\n",
              "      <th>Race</th>\n",
              "      <th>Country</th>\n",
              "      <th>Education</th>\n",
              "      <th>Education-Num</th>\n",
              "      <th>Marital Status</th>\n",
              "      <th>Relationship</th>\n",
              "      <th>Workclass</th>\n",
              "      <th>fnlwgt</th>\n",
              "      <th>Capital Gain</th>\n",
              "      <th>Capital Loss</th>\n",
              "      <th>Hours per week</th>\n",
              "      <th>Target</th>\n",
              "      <th>True</th>\n",
              "    </tr>\n",
              "  </thead>\n",
              "  <tbody>\n",
              "    <tr>\n",
              "      <th>48842</th>\n",
              "      <td>NaN</td>\n",
              "      <td>NaN</td>\n",
              "      <td>1344995623</td>\n",
              "      <td>NaN</td>\n",
              "      <td>NaN</td>\n",
              "      <td>NaN</td>\n",
              "      <td>NaN</td>\n",
              "      <td>NaN</td>\n",
              "      <td>NaN</td>\n",
              "      <td>Self-emp-inc</td>\n",
              "      <td>182148.0</td>\n",
              "      <td>0.0</td>\n",
              "      <td>0.0</td>\n",
              "      <td>60.0</td>\n",
              "      <td>&gt;50K.</td>\n",
              "      <td>right_only</td>\n",
              "    </tr>\n",
              "  </tbody>\n",
              "</table>\n",
              "</div>\n",
              "      <button class=\"colab-df-convert\" onclick=\"convertToInteractive('df-dab4c58f-149d-426e-99ee-e321a9879588')\"\n",
              "              title=\"Convert this dataframe to an interactive table.\"\n",
              "              style=\"display:none;\">\n",
              "        \n",
              "  <svg xmlns=\"http://www.w3.org/2000/svg\" height=\"24px\"viewBox=\"0 0 24 24\"\n",
              "       width=\"24px\">\n",
              "    <path d=\"M0 0h24v24H0V0z\" fill=\"none\"/>\n",
              "    <path d=\"M18.56 5.44l.94 2.06.94-2.06 2.06-.94-2.06-.94-.94-2.06-.94 2.06-2.06.94zm-11 1L8.5 8.5l.94-2.06 2.06-.94-2.06-.94L8.5 2.5l-.94 2.06-2.06.94zm10 10l.94 2.06.94-2.06 2.06-.94-2.06-.94-.94-2.06-.94 2.06-2.06.94z\"/><path d=\"M17.41 7.96l-1.37-1.37c-.4-.4-.92-.59-1.43-.59-.52 0-1.04.2-1.43.59L10.3 9.45l-7.72 7.72c-.78.78-.78 2.05 0 2.83L4 21.41c.39.39.9.59 1.41.59.51 0 1.02-.2 1.41-.59l7.78-7.78 2.81-2.81c.8-.78.8-2.07 0-2.86zM5.41 20L4 18.59l7.72-7.72 1.47 1.35L5.41 20z\"/>\n",
              "  </svg>\n",
              "      </button>\n",
              "      \n",
              "  <style>\n",
              "    .colab-df-container {\n",
              "      display:flex;\n",
              "      flex-wrap:wrap;\n",
              "      gap: 12px;\n",
              "    }\n",
              "\n",
              "    .colab-df-convert {\n",
              "      background-color: #E8F0FE;\n",
              "      border: none;\n",
              "      border-radius: 50%;\n",
              "      cursor: pointer;\n",
              "      display: none;\n",
              "      fill: #1967D2;\n",
              "      height: 32px;\n",
              "      padding: 0 0 0 0;\n",
              "      width: 32px;\n",
              "    }\n",
              "\n",
              "    .colab-df-convert:hover {\n",
              "      background-color: #E2EBFA;\n",
              "      box-shadow: 0px 1px 2px rgba(60, 64, 67, 0.3), 0px 1px 3px 1px rgba(60, 64, 67, 0.15);\n",
              "      fill: #174EA6;\n",
              "    }\n",
              "\n",
              "    [theme=dark] .colab-df-convert {\n",
              "      background-color: #3B4455;\n",
              "      fill: #D2E3FC;\n",
              "    }\n",
              "\n",
              "    [theme=dark] .colab-df-convert:hover {\n",
              "      background-color: #434B5C;\n",
              "      box-shadow: 0px 1px 3px 1px rgba(0, 0, 0, 0.15);\n",
              "      filter: drop-shadow(0px 1px 2px rgba(0, 0, 0, 0.3));\n",
              "      fill: #FFFFFF;\n",
              "    }\n",
              "  </style>\n",
              "\n",
              "      <script>\n",
              "        const buttonEl =\n",
              "          document.querySelector('#df-dab4c58f-149d-426e-99ee-e321a9879588 button.colab-df-convert');\n",
              "        buttonEl.style.display =\n",
              "          google.colab.kernel.accessAllowed ? 'block' : 'none';\n",
              "\n",
              "        async function convertToInteractive(key) {\n",
              "          const element = document.querySelector('#df-dab4c58f-149d-426e-99ee-e321a9879588');\n",
              "          const dataTable =\n",
              "            await google.colab.kernel.invokeFunction('convertToInteractive',\n",
              "                                                     [key], {});\n",
              "          if (!dataTable) return;\n",
              "\n",
              "          const docLinkHtml = 'Like what you see? Visit the ' +\n",
              "            '<a target=\"_blank\" href=https://colab.research.google.com/notebooks/data_table.ipynb>data table notebook</a>'\n",
              "            + ' to learn more about interactive tables.';\n",
              "          element.innerHTML = '';\n",
              "          dataTable['output_type'] = 'display_data';\n",
              "          await google.colab.output.renderOutput(dataTable, element);\n",
              "          const docLink = document.createElement('div');\n",
              "          docLink.innerHTML = docLinkHtml;\n",
              "          element.appendChild(docLink);\n",
              "        }\n",
              "      </script>\n",
              "    </div>\n",
              "  </div>\n",
              "  "
            ],
            "text/plain": [
              "       Age  Sex          ID  ... Hours per week  Target        True\n",
              "48842  NaN  NaN  1344995623  ...           60.0   >50K.  right_only\n",
              "\n",
              "[1 rows x 16 columns]"
            ]
          },
          "metadata": {},
          "execution_count": 73
        }
      ]
    },
    {
      "cell_type": "markdown",
      "source": [
        "### 2) Corregir los target a solo dos valores distintos ‘<=50k’ y ‘>50k’"
      ],
      "metadata": {
        "id": "jWIC2EoVKUqQ"
      }
    },
    {
      "cell_type": "code",
      "source": [
        "#Se observa que existen 2 rangos unicos de salario pero al estar escritos de diferentes formas no los agrupa.\n",
        "df0['Target'].value_counts()"
      ],
      "metadata": {
        "id": "lYvUBz-E8WNH",
        "colab": {
          "base_uri": "https://localhost:8080/"
        },
        "outputId": "5cdae555-18a5-4da9-dab4-3e9d6027b785"
      },
      "execution_count": 74,
      "outputs": [
        {
          "output_type": "execute_result",
          "data": {
            "text/plain": [
              " <=50K     24720\n",
              " <=50K.    12435\n",
              " >50K       7841\n",
              " >50K.      3846\n",
              "Name: Target, dtype: int64"
            ]
          },
          "metadata": {},
          "execution_count": 74
        }
      ]
    },
    {
      "cell_type": "code",
      "source": [
        "#Eliminamos los espacios vacíos y el caracter \"punto\" para poder unificar los rangos únicamente en \"<=50K\" y \">50K\"\n",
        "df0.Target=df0.Target.str.strip(' .')\n",
        "df_target.value_counts()"
      ],
      "metadata": {
        "colab": {
          "base_uri": "https://localhost:8080/"
        },
        "id": "OEXSX5ItSQWo",
        "outputId": "74155930-bfdb-4ff0-8ca5-892013d07fb6"
      },
      "execution_count": 75,
      "outputs": [
        {
          "output_type": "execute_result",
          "data": {
            "text/plain": [
              "Target\n",
              "<=50K     37155\n",
              ">50K      11687\n",
              "dtype: int64"
            ]
          },
          "metadata": {},
          "execution_count": 75
        }
      ]
    },
    {
      "cell_type": "markdown",
      "source": [
        "### 3) Calcular la proporción que hay entre personas con salarios >50k respecto del total para Entre personas de distinto sexo, Raza y Educacion. Por ejemplo cuál es el porcentaje de mujeres con un salario mayor a 50K y compararlo con el de los hombres. Lo mismo para personas de distintas razas y Educación"
      ],
      "metadata": {
        "id": "kZr_SbakKZjq"
      }
    },
    {
      "cell_type": "code",
      "source": [
        "#Creamos un DF nuevo teniendo como base el original y contemplamos que solo incluya salarios superiores a 50K.\n",
        "df_target_high=df0.loc[df0.Target=='>50K']\n",
        "df_target_high.Target.value_counts()"
      ],
      "metadata": {
        "colab": {
          "base_uri": "https://localhost:8080/"
        },
        "id": "UHXFROyehrAU",
        "outputId": "9ef633db-a2ca-4302-c28e-c2a0f9980c72"
      },
      "execution_count": 76,
      "outputs": [
        {
          "output_type": "execute_result",
          "data": {
            "text/plain": [
              ">50K    11687\n",
              "Name: Target, dtype: int64"
            ]
          },
          "metadata": {},
          "execution_count": 76
        }
      ]
    },
    {
      "cell_type": "code",
      "source": [
        "#Calculamos la proporción de salarios mayor a 50K por SEXO.\n",
        "df_target_high.Sex.value_counts() / len(df_target_high) *100"
      ],
      "metadata": {
        "colab": {
          "base_uri": "https://localhost:8080/"
        },
        "id": "WsvOZALpJqtB",
        "outputId": "ac064193-4091-4ae6-a8a2-32e98765e283"
      },
      "execution_count": 77,
      "outputs": [
        {
          "output_type": "execute_result",
          "data": {
            "text/plain": [
              " Male      84.854967\n",
              " Female    15.136476\n",
              "Name: Sex, dtype: float64"
            ]
          },
          "metadata": {},
          "execution_count": 77
        }
      ]
    },
    {
      "cell_type": "code",
      "source": [
        "#Calculamos la proporción de salarios mayor a 50K por Raza.\n",
        "df_target_high.Race.value_counts() / len(df_target_high) *100"
      ],
      "metadata": {
        "colab": {
          "base_uri": "https://localhost:8080/"
        },
        "id": "m075fczNSFZO",
        "outputId": "f7748599-6caf-4730-c7bb-8bd218350048"
      },
      "execution_count": 78,
      "outputs": [
        {
          "output_type": "execute_result",
          "data": {
            "text/plain": [
              " White                 90.750406\n",
              " Black                  4.842988\n",
              " Asian-Pac-Islander     3.499615\n",
              " Amer-Indian-Eskimo     0.470608\n",
              " Other                  0.427826\n",
              "Name: Race, dtype: float64"
            ]
          },
          "metadata": {},
          "execution_count": 78
        }
      ]
    },
    {
      "cell_type": "code",
      "source": [
        "#Calculamos la proporción de salarios mayor a 50K por Educación.\n",
        "df_target_high.Education.value_counts() / len(df_target_high) *100"
      ],
      "metadata": {
        "colab": {
          "base_uri": "https://localhost:8080/"
        },
        "id": "CfUIaA0kJ4Ld",
        "outputId": "bb7ffe7c-ad8c-4f0a-e033-d9306f411ede"
      },
      "execution_count": 79,
      "outputs": [
        {
          "output_type": "execute_result",
          "data": {
            "text/plain": [
              " Bachelors       28.339180\n",
              " HS-grad         21.416959\n",
              " Some-college    17.652092\n",
              " Masters         12.483957\n",
              " Prof-school      5.279370\n",
              " Assoc-voc        4.466501\n",
              " Doctorate        3.687858\n",
              " Assoc-acdm       3.533841\n",
              " 11th             0.787199\n",
              " 10th             0.744417\n",
              " 7th-8th          0.530504\n",
              " 12th             0.410713\n",
              " 9th              0.350817\n",
              " 5th-6th          0.231026\n",
              " 1st-4th          0.068452\n",
              " Preschool        0.008557\n",
              "Name: Education, dtype: float64"
            ]
          },
          "metadata": {},
          "execution_count": 79
        }
      ]
    }
  ]
}