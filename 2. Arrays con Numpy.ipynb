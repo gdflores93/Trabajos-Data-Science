{
  "nbformat": 4,
  "nbformat_minor": 0,
  "metadata": {
    "colab": {
      "name": "Arrays - Guillermo Flores Torres V2.ipynb",
      "provenance": [],
      "collapsed_sections": []
    },
    "kernelspec": {
      "name": "python3",
      "display_name": "Python 3"
    },
    "language_info": {
      "name": "python"
    }
  },
  "cells": [
    {
      "cell_type": "markdown",
      "metadata": {
        "id": "91zAP57cB4IF"
      },
      "source": [
        "Entrega 10/11. Ejercicios con Numpy Arrays\n",
        "\n"
      ]
    },
    {
      "cell_type": "markdown",
      "metadata": {
        "id": "Dn7h-zSJCDXh"
      },
      "source": [
        "### **Ejercicio 1: Generar un array aleatorio de 100 elementos. Calcular la mediana correspondiente:**"
      ]
    },
    {
      "cell_type": "code",
      "metadata": {
        "colab": {
          "base_uri": "https://localhost:8080/"
        },
        "id": "C6pFCh0I1S-t",
        "outputId": "d8f365c2-2661-4ead-dbe4-35d2b8b3ca3f"
      },
      "source": [
        "import numpy as np\n",
        "arr=np.random.randint(100, size=100)\n",
        "np.median(arr)"
      ],
      "execution_count": null,
      "outputs": [
        {
          "output_type": "execute_result",
          "data": {
            "text/plain": [
              "52.5"
            ]
          },
          "metadata": {},
          "execution_count": 2
        }
      ]
    },
    {
      "cell_type": "markdown",
      "metadata": {
        "id": "g703jQmU49ac"
      },
      "source": [
        "### **Ejercicio 2: Amplicar operaciones de ndarrays a los ejercicios de la clase anterior**"
      ]
    },
    {
      "cell_type": "markdown",
      "metadata": {
        "id": "w4hOvw9ZNABV"
      },
      "source": [
        "Caso 1: Realizar una función que calcule el factorial de un numero cualquiera empleando Numpy.\n",
        "\n"
      ]
    },
    {
      "cell_type": "code",
      "metadata": {
        "colab": {
          "base_uri": "https://localhost:8080/"
        },
        "id": "sNwpuPm7zcUt",
        "outputId": "96430d16-2479-484c-a15b-e2dcf09d6424"
      },
      "source": [
        "import numpy as np    #Invocamos numpy para su utilización\n",
        "def factorial(x):     #Creamos una función factorial(x)\n",
        "      factorial=np.math.factorial(x)      #Se define la función factorial y se emplea el uso de funciones matemáticas de Numpy.\n",
        "      return factorial      #Se usa el return para finalizar la función.\n",
        "factorial(5)       #Se realiza ejemplo de la función utilizando un numero cualquiera."
      ],
      "execution_count": null,
      "outputs": [
        {
          "output_type": "execute_result",
          "data": {
            "text/plain": [
              "120"
            ]
          },
          "metadata": {},
          "execution_count": 16
        }
      ]
    },
    {
      "cell_type": "markdown",
      "metadata": {
        "id": "X_mlnsfoNE1Z"
      },
      "source": [
        "Caso 2: Función que tome dos parámetros, arme un rango y devuelva la suma de los elementos de ese array."
      ]
    },
    {
      "cell_type": "code",
      "metadata": {
        "colab": {
          "base_uri": "https://localhost:8080/"
        },
        "id": "DPT9mosf2IN3",
        "outputId": "b2b39d4d-e215-4318-fffa-0d27ea9dd434"
      },
      "source": [
        "import numpy as np\n",
        "def arraygeneral(x,y): #Definí la función arraygeneral en base a las variables X e Y.\n",
        "  a1=np.arange(x,y+1)     #Se establece un array que toma dos parametros X e Y. Se coloca Y+1 para que el array pueda incluir el valor de Y en su calculo.\n",
        "  print(np.sum(a1))   #Se muestra la suma de los valores contenidos en el array.\n",
        "  return arraygeneral #Se finaliza con función.\n",
        "arraygeneral(2,5)   #Se realiza ejemplo con valores X=2 Y=5. Resultado = 14"
      ],
      "execution_count": 6,
      "outputs": [
        {
          "output_type": "stream",
          "name": "stdout",
          "text": [
            "14\n"
          ]
        },
        {
          "output_type": "execute_result",
          "data": {
            "text/plain": [
              "<function __main__.arraygeneral>"
            ]
          },
          "metadata": {},
          "execution_count": 6
        }
      ]
    },
    {
      "cell_type": "markdown",
      "metadata": {
        "id": "umUChoLfR7X6"
      },
      "source": [
        "### **Ejercicio 3: Usando archivo XLSX**"
      ]
    },
    {
      "cell_type": "markdown",
      "metadata": {
        "id": "gN-l8flBd_Lt"
      },
      "source": [
        "Ejercicio en stand by según lo informado en clase."
      ]
    }
  ]
}